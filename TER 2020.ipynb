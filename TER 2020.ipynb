{
 "cells": [
  {
   "cell_type": "code",
   "execution_count": 2,
   "metadata": {
    "collapsed": true
   },
   "outputs": [],
   "source": [
    "import numpy as np\n",
    "import sympy as sp \n",
    "from sympy import *"
   ]
  },
  {
   "cell_type": "code",
   "execution_count": 7,
   "metadata": {
    "collapsed": true
   },
   "outputs": [],
   "source": [
    "x= Symbol(\"x\")\n",
    "y= Symbol(\"y\")"
   ]
  },
  {
   "cell_type": "code",
   "execution_count": 8,
   "metadata": {
    "collapsed": true
   },
   "outputs": [],
   "source": [
    "init_printing()"
   ]
  },
  {
   "cell_type": "code",
   "execution_count": 42,
   "metadata": {},
   "outputs": [
    {
     "data": {
      "image/png": "[encoded data removed]",
      "text/latex": [
       "$$\\left ( \\frac{\\partial}{\\partial x} f{\\left (x,y \\right )}, \\quad \\frac{\\partial}{\\partial x} g{\\left (x,y \\right )}\\right )$$"
      ],
      "text/plain": [
       "⎛∂            ∂          ⎞\n",
       "⎜──(f(x, y)), ──(g(x, y))⎟\n",
       "⎝∂x           ∂x         ⎠"
      ]
     },
     "execution_count": 42,
     "metadata": {},
     "output_type": "execute_result"
    }
   ],
   "source": [
    "f, g, h = symbols('f g h', cls=Function)\n",
    "f,g=f(x,y),g(x,y)\n",
    "diff(f,x),diff(g,x)"
   ]
  },
  {
   "cell_type": "markdown",
   "metadata": {},
   "source": [
    "Verifions notre formule dans le lemme 1:"
   ]
  },
  {
   "cell_type": "code",
   "execution_count": 21,
   "metadata": {
    "collapsed": true
   },
   "outputs": [],
   "source": [
    "i=complex(0,1)"
   ]
  },
  {
   "cell_type": "code",
   "execution_count": 22,
   "metadata": {},
   "outputs": [
    {
     "data": {
      "text/plain": [
       "(-1+0j)"
      ]
     },
     "execution_count": 22,
     "metadata": {},
     "output_type": "execute_result"
    }
   ],
   "source": [
    "i**2"
   ]
  },
  {
   "cell_type": "code",
   "execution_count": 168,
   "metadata": {},
   "outputs": [],
   "source": [
    "P = (f+i*g)*(x+i*y) + (f-i*g)*(x-i*y)\n",
    "H = -i*(f+i*g)*(x+i*y) +i*(f-i*g)*(x-i*y)"
   ]
  },
  {
   "cell_type": "code",
   "execution_count": 169,
   "metadata": {},
   "outputs": [
    {
     "data": {
      "image/png": "[encoded data removed]",
      "text/latex": [
       "$$\\left ( \\left(x - 2 y\\right) \\left(\\frac{\\partial}{\\partial x} f{\\left (x,y \\right )} - 2 \\frac{\\partial}{\\partial x} g{\\left (x,y \\right )}\\right) + \\left(x + 2 y\\right) \\left(\\frac{\\partial}{\\partial x} f{\\left (x,y \\right )} + 2 \\frac{\\partial}{\\partial x} g{\\left (x,y \\right )}\\right) + 2 f{\\left (x,y \\right )}, \\quad \\left(x - 2 y\\right) \\left(2 \\frac{\\partial}{\\partial y} f{\\left (x,y \\right )} - 4 \\frac{\\partial}{\\partial y} g{\\left (x,y \\right )}\\right) + \\left(x + 2 y\\right) \\left(- 2 \\frac{\\partial}{\\partial y} f{\\left (x,y \\right )} - 4 \\frac{\\partial}{\\partial y} g{\\left (x,y \\right )}\\right) - 8 f{\\left (x,y \\right )}\\right )$$"
      ],
      "text/plain": [
       "⎛          ⎛∂               ∂          ⎞             ⎛∂               ∂       \n",
       "⎜(x - 2⋅y)⋅⎜──(f(x, y)) - 2⋅──(g(x, y))⎟ + (x + 2⋅y)⋅⎜──(f(x, y)) + 2⋅──(g(x, \n",
       "⎝          ⎝∂x              ∂x         ⎠             ⎝∂x              ∂x      \n",
       "\n",
       "   ⎞                        ⎛  ∂               ∂          ⎞             ⎛    ∂\n",
       "y))⎟ + 2⋅f(x, y), (x - 2⋅y)⋅⎜2⋅──(f(x, y)) - 4⋅──(g(x, y))⎟ + (x + 2⋅y)⋅⎜- 2⋅─\n",
       "   ⎠                        ⎝  ∂y              ∂y         ⎠             ⎝    ∂\n",
       "\n",
       "               ∂          ⎞            ⎞\n",
       "─(f(x, y)) - 4⋅──(g(x, y))⎟ - 8⋅f(x, y)⎟\n",
       "y              ∂y         ⎠            ⎠"
      ]
     },
     "execution_count": 169,
     "metadata": {},
     "output_type": "execute_result"
    }
   ],
   "source": [
    "diff(P,x), diff(H,y)"
   ]
  },
  {
   "cell_type": "code",
   "execution_count": 170,
   "metadata": {},
   "outputs": [
    {
     "data": {
      "image/png": "[encoded data removed]",
      "text/latex": [
       "$$\\left ( 2 x \\frac{\\partial}{\\partial x} f{\\left (x,y \\right )} + 8 y \\frac{\\partial}{\\partial x} g{\\left (x,y \\right )} + 2 f{\\left (x,y \\right )}, \\quad - 8 x \\frac{\\partial}{\\partial y} g{\\left (x,y \\right )} - 8 y \\frac{\\partial}{\\partial y} f{\\left (x,y \\right )} - 8 f{\\left (x,y \\right )}\\right )$$"
      ],
      "text/plain": [
       "⎛    ∂                 ∂                              ∂                 ∂     \n",
       "⎜2⋅x⋅──(f(x, y)) + 8⋅y⋅──(g(x, y)) + 2⋅f(x, y), - 8⋅x⋅──(g(x, y)) - 8⋅y⋅──(f(x\n",
       "⎝    ∂x                ∂x                             ∂y                ∂y    \n",
       "\n",
       "                 ⎞\n",
       ", y)) - 8⋅f(x, y)⎟\n",
       "                 ⎠"
      ]
     },
     "execution_count": 170,
     "metadata": {},
     "output_type": "execute_result"
    }
   ],
   "source": [
    "a,b=simplify(diff(P,x)),simplify(diff(H,y))\n",
    "a,b"
   ]
  },
  {
   "cell_type": "code",
   "execution_count": 171,
   "metadata": {},
   "outputs": [
    {
     "data": {
      "image/png": "[encoded data removed]",
      "text/latex": [
       "$$- 2 x \\frac{\\partial}{\\partial x} f{\\left (x,y \\right )} - 8 x \\frac{\\partial}{\\partial y} g{\\left (x,y \\right )} - 8 y \\frac{\\partial}{\\partial y} f{\\left (x,y \\right )} - 8 y \\frac{\\partial}{\\partial x} g{\\left (x,y \\right )} - 10 f{\\left (x,y \\right )}$$"
      ],
      "text/plain": [
       "      ∂                 ∂                 ∂                 ∂                 \n",
       "- 2⋅x⋅──(f(x, y)) - 8⋅x⋅──(g(x, y)) - 8⋅y⋅──(f(x, y)) - 8⋅y⋅──(g(x, y)) - 10⋅f\n",
       "      ∂x                ∂y                ∂y                ∂x                \n",
       "\n",
       "      \n",
       "(x, y)\n",
       "      "
      ]
     },
     "execution_count": 171,
     "metadata": {},
     "output_type": "execute_result"
    }
   ],
   "source": [
    "-a+b "
   ]
  },
  {
   "cell_type": "code",
   "execution_count": 57,
   "metadata": {},
   "outputs": [
    {
     "data": {
      "image/png": "[encoded data removed]",
      "text/latex": [
       "$$\\left ( \\left(x - 1.0 i y\\right) \\left(\\frac{\\partial}{\\partial y} f{\\left (x,y \\right )} - 1.0 i \\frac{\\partial}{\\partial y} g{\\left (x,y \\right )}\\right) + \\left(x + 1.0 i y\\right) \\left(\\frac{\\partial}{\\partial y} f{\\left (x,y \\right )} + 1.0 i \\frac{\\partial}{\\partial y} g{\\left (x,y \\right )}\\right) - 1.0 i \\left(f{\\left (x,y \\right )} - 1.0 i g{\\left (x,y \\right )}\\right) + 1.0 i \\left(f{\\left (x,y \\right )} + 1.0 i g{\\left (x,y \\right )}\\right), \\quad 1.0 i \\left(x - 1.0 i y\\right) \\left(\\frac{\\partial}{\\partial x} f{\\left (x,y \\right )} - 1.0 i \\frac{\\partial}{\\partial x} g{\\left (x,y \\right )}\\right) - 1.0 i \\left(x + 1.0 i y\\right) \\left(\\frac{\\partial}{\\partial x} f{\\left (x,y \\right )} + 1.0 i \\frac{\\partial}{\\partial x} g{\\left (x,y \\right )}\\right) + 1.0 i \\left(f{\\left (x,y \\right )} - 1.0 i g{\\left (x,y \\right )}\\right) - 1.0 i \\left(f{\\left (x,y \\right )} + 1.0 i g{\\left (x,y \\right )}\\right)\\right )$$"
      ],
      "text/plain": [
       "⎛              ⎛∂                   ∂          ⎞                 ⎛∂           \n",
       "⎜(x - 1.0⋅ⅈ⋅y)⋅⎜──(f(x, y)) - 1.0⋅ⅈ⋅──(g(x, y))⎟ + (x + 1.0⋅ⅈ⋅y)⋅⎜──(f(x, y)) \n",
       "⎝              ⎝∂y                  ∂y         ⎠                 ⎝∂y          \n",
       "\n",
       "        ∂          ⎞                                                          \n",
       "+ 1.0⋅ⅈ⋅──(g(x, y))⎟ - 1.0⋅ⅈ⋅(f(x, y) - 1.0⋅ⅈ⋅g(x, y)) + 1.0⋅ⅈ⋅(f(x, y) + 1.0⋅\n",
       "        ∂y         ⎠                                                          \n",
       "\n",
       "                                ⎛∂                   ∂          ⎞             \n",
       "ⅈ⋅g(x, y)), 1.0⋅ⅈ⋅(x - 1.0⋅ⅈ⋅y)⋅⎜──(f(x, y)) - 1.0⋅ⅈ⋅──(g(x, y))⎟ - 1.0⋅ⅈ⋅(x +\n",
       "                                ⎝∂x                  ∂x         ⎠             \n",
       "\n",
       "          ⎛∂                   ∂          ⎞                                   \n",
       " 1.0⋅ⅈ⋅y)⋅⎜──(f(x, y)) + 1.0⋅ⅈ⋅──(g(x, y))⎟ + 1.0⋅ⅈ⋅(f(x, y) - 1.0⋅ⅈ⋅g(x, y)) \n",
       "          ⎝∂x                  ∂x         ⎠                                   \n",
       "\n",
       "                                 ⎞\n",
       "- 1.0⋅ⅈ⋅(f(x, y) + 1.0⋅ⅈ⋅g(x, y))⎟\n",
       "                                 ⎠"
      ]
     },
     "execution_count": 57,
     "metadata": {},
     "output_type": "execute_result"
    }
   ],
   "source": [
    "diff(P,y), diff(H,x)"
   ]
  },
  {
   "cell_type": "code",
   "execution_count": 59,
   "metadata": {},
   "outputs": [],
   "source": [
    "a,b=simplify(diff(P,y)), simplify(diff(H,x))"
   ]
  },
  {
   "cell_type": "code",
   "execution_count": 61,
   "metadata": {},
   "outputs": [
    {
     "data": {
      "image/png": "[encoded data removed]",
      "text/latex": [
       "$$- 2.0 x \\frac{\\partial}{\\partial y} f{\\left (x,y \\right )} - 2.0 x \\frac{\\partial}{\\partial x} g{\\left (x,y \\right )} - 2.0 y \\frac{\\partial}{\\partial x} f{\\left (x,y \\right )} + 2.0 y \\frac{\\partial}{\\partial y} g{\\left (x,y \\right )}$$"
      ],
      "text/plain": [
       "        ∂                   ∂                   ∂                   ∂         \n",
       "- 2.0⋅x⋅──(f(x, y)) - 2.0⋅x⋅──(g(x, y)) - 2.0⋅y⋅──(f(x, y)) + 2.0⋅y⋅──(g(x, y)\n",
       "        ∂y                  ∂x                  ∂x                  ∂y        \n",
       "\n",
       " \n",
       ")\n",
       " "
      ]
     },
     "execution_count": 61,
     "metadata": {},
     "output_type": "execute_result"
    }
   ],
   "source": [
    "-a-b "
   ]
  },
  {
   "cell_type": "markdown",
   "metadata": {},
   "source": [
    "malheureusement, je ne recois pas le resultat comme dans l'article. "
   ]
  },
  {
   "cell_type": "markdown",
   "metadata": {},
   "source": [
    "je vais maintenant essayer de trouver le potentiel et hamiltonien par la formule dans la proposition 1 de l'article pour le système suivant: \n",
    "x' = x^4 +y^4 et y' = x^4 +y^4"
   ]
  },
  {
   "cell_type": "code",
   "execution_count": 72,
   "metadata": {},
   "outputs": [
    {
     "data": {
      "image/png": "[encoded data removed]",
      "text/latex": [
       "$$- \\sin{\\left (x \\right )}$$"
      ],
      "text/plain": [
       "-sin(x)"
      ]
     },
     "execution_count": 72,
     "metadata": {},
     "output_type": "execute_result"
    }
   ],
   "source": [
    "integrate(integrate(sin(x),x),x) # j'essaie de manipuler un peu la bibliotheque "
   ]
  },
  {
   "cell_type": "code",
   "execution_count": 126,
   "metadata": {
    "collapsed": true
   },
   "outputs": [],
   "source": [
    "def Integrer(fonc,x,n):                   #integrer une fonction par rapport a une variable x ou y n fois\n",
    "    I=fonc\n",
    "    i=0\n",
    "    while i<n:\n",
    "        I = integrate(I,x)\n",
    "        i = i+1\n",
    "    return I\n",
    "def Deriver(fonc,x,n):                    #deriver une fonction par rapport a une variable n fois.\n",
    "    D = fonc\n",
    "    i = 0 \n",
    "    while i<n:\n",
    "        D = diff(D,x)\n",
    "        i=i+1\n",
    "    return D"
   ]
  },
  {
   "cell_type": "code",
   "execution_count": 160,
   "metadata": {},
   "outputs": [
    {
     "data": {
      "image/png": "[encoded data removed]",
      "text/latex": [
       "$$\\left ( 0, \\quad \\frac{x^{3} y}{6}\\right )$$"
      ],
      "text/plain": [
       "⎛    3  ⎞\n",
       "⎜   x ⋅y⎟\n",
       "⎜0, ────⎟\n",
       "⎝    6  ⎠"
      ]
     },
     "execution_count": 160,
     "metadata": {},
     "output_type": "execute_result"
    }
   ],
   "source": [
    "Deriver(x*y,y,2), Integrer(x*y,x,2) "
   ]
  },
  {
   "cell_type": "code",
   "execution_count": 158,
   "metadata": {},
   "outputs": [
    {
     "data": {
      "image/png": "[encoded data removed]",
      "text/latex": [
       "$$\\left [ \\frac{x^{3} y}{6}, \\quad \\frac{x^{3}}{6}, \\quad 0\\right ]$$"
      ],
      "text/plain": [
       "⎡ 3     3   ⎤\n",
       "⎢x ⋅y  x    ⎥\n",
       "⎢────, ──, 0⎥\n",
       "⎣ 6    6    ⎦"
      ]
     },
     "execution_count": 158,
     "metadata": {},
     "output_type": "execute_result"
    }
   ],
   "source": [
    "[Deriver(Integrer(x*y,x,2),y,i) for i in range(3)]"
   ]
  },
  {
   "cell_type": "code",
   "execution_count": 148,
   "metadata": {
    "collapsed": true
   },
   "outputs": [],
   "source": [
    "# j'implemente le potentielle et Hamiltonien dans la proposition 1 \n",
    "# je fixe k=4 comme dans l'article. \n",
    "def Potentielle(f1,f2,g1,g2):   #avec f1,g1, f2,g2 sont des fonctions dans le second membre du systeme differentielle\n",
    "    P1,P2,P3,P4 =0,0,0,0\n",
    "    for j in range(1,4+1):   #j ne peut pas etre =0 \n",
    "        if j%4 == 1: \n",
    "            P1 = P1 + -Deriver(Integrer(f1,x,j),y,j-1) - Deriver(Integrer(g1,y,j),x,j-1)  \n",
    "        if j%4 == 2:\n",
    "            P2 = P2 + -Deriver(Integrer(f2,y,j),x,j-1) - Deriver(Integrer(g2,y,j),x,j-1)\n",
    "        if j%4 == 3:\n",
    "            P3 = P3 + Deriver(Integrer(f1,x,j),y,j-1) + Deriver(Integrer(g1,y,j),x,j-1)\n",
    "        if j%4 == 0:\n",
    "            P4 = P4 + Deriver(Integrer(f2,y,j),x,j-1) - Deriver(Integrer(g2,y,j),x,j-1)\n",
    "    return P1+P2+P3+P4 "
   ]
  },
  {
   "cell_type": "code",
   "execution_count": 162,
   "metadata": {},
   "outputs": [
    {
     "data": {
      "image/png": "[encoded data removed]",
      "text/latex": [
       "$$- \\frac{x^{2}}{2} - x y$$"
      ],
      "text/plain": [
       "   2      \n",
       "  x       \n",
       "- ── - x⋅y\n",
       "  2       "
      ]
     },
     "execution_count": 162,
     "metadata": {},
     "output_type": "execute_result"
    }
   ],
   "source": [
    "P = Potentielle(x,y,x,y)\n",
    "P"
   ]
  },
  {
   "cell_type": "code",
   "execution_count": 150,
   "metadata": {
    "collapsed": true
   },
   "outputs": [],
   "source": [
    "def Hamiltonien(f1,f2,g1,g2):\n",
    "    H1,H2,H3,H4 =0,0,0,0\n",
    "    for j in range(1,5):\n",
    "        if j%4 == 1: \n",
    "            H1 = H1 + -Deriver(Integrer(g2,x,j),y,j-1) + Deriver(Integrer(f2,y,j),x,j-1)  \n",
    "        if j%4 == 2:\n",
    "            H2 = H2 + Deriver(Integrer(f1,y,j),x,j-1) - Deriver(Integrer(g1,y,j),x,j-1)\n",
    "        if j%4 == 3:\n",
    "            H3 = H3 + Deriver(Integrer(g2,x,j),y,j-1) - Deriver(Integrer(f2,y,j),x,j-1)\n",
    "        if j%4 == 0:\n",
    "            H4 = H4 + -Deriver(Integrer(f1,y,j),x,j-1) + Deriver(Integrer(g1,y,j),x,j-1)\n",
    "    return H1+H2+H3+H4 "
   ]
  },
  {
   "cell_type": "code",
   "execution_count": 161,
   "metadata": {},
   "outputs": [
    {
     "data": {
      "image/png": "[encoded data removed]",
      "text/latex": [
       "$$- x y + \\frac{y^{2}}{2}$$"
      ],
      "text/plain": [
       "        2\n",
       "       y \n",
       "-x⋅y + ──\n",
       "       2 "
      ]
     },
     "execution_count": 161,
     "metadata": {},
     "output_type": "execute_result"
    }
   ],
   "source": [
    "H = Hamiltonien(x,y,x,y)\n",
    "H"
   ]
  },
  {
   "cell_type": "code",
   "execution_count": 166,
   "metadata": {},
   "outputs": [
    {
     "data": {
      "image/png": "[encoded data removed]",
      "text/latex": [
       "$$2 x$$"
      ],
      "text/plain": [
       "2⋅x"
      ]
     },
     "execution_count": 166,
     "metadata": {},
     "output_type": "execute_result"
    }
   ],
   "source": [
    "-diff(P,x)-diff(H,y)"
   ]
  },
  {
   "cell_type": "markdown",
   "metadata": {},
   "source": [
    "Peut-etre une autre exemple [lorentz pendulum dans l'article 1 page 2 ] \n",
    "x'=y  et y' = -ax - x^3 \n",
    "je choisis en particulier f1 = g2 = 0; f2 = y; g1 = -ax -x^3 "
   ]
  },
  {
   "cell_type": "code",
   "execution_count": 153,
   "metadata": {},
   "outputs": [
    {
     "data": {
      "image/png": "[encoded data removed]",
      "text/latex": [
       "$$- x y^{3} - y \\left(- x^{3} - x\\right)$$"
      ],
      "text/plain": [
       "     3     ⎛   3    ⎞\n",
       "- x⋅y  - y⋅⎝- x  - x⎠"
      ]
     },
     "execution_count": 153,
     "metadata": {},
     "output_type": "execute_result"
    }
   ],
   "source": [
    "Potentielle(0,y,-x-x**3,0)"
   ]
  },
  {
   "cell_type": "code",
   "execution_count": 154,
   "metadata": {},
   "outputs": [
    {
     "data": {
      "image/png": "[encoded data removed]",
      "text/latex": [
       "$$- \\frac{y^{4}}{4} - y^{2} \\left(- \\frac{3 x^{2}}{2} - \\frac{1}{2}\\right) + \\frac{y^{2}}{2}$$"
      ],
      "text/plain": [
       "   4      ⎛     2    ⎞    2\n",
       "  y     2 ⎜  3⋅x    1⎟   y \n",
       "- ── - y ⋅⎜- ──── - ─⎟ + ──\n",
       "  4       ⎝   2     2⎠   2 "
      ]
     },
     "execution_count": 154,
     "metadata": {},
     "output_type": "execute_result"
    }
   ],
   "source": [
    "Hamiltonien(0,y,-x-x**3,0)"
   ]
  },
  {
   "cell_type": "code",
   "execution_count": 155,
   "metadata": {},
   "outputs": [
    {
     "data": {
      "image/png": "[encoded data removed]",
      "text/latex": [
       "$$x^{3} - 3 x y^{2} + x + y^{3} + y \\left(- 3 x^{2} - 1\\right)$$"
      ],
      "text/plain": [
       " 3        2        3     ⎛     2    ⎞\n",
       "x  - 3⋅x⋅y  + x + y  + y⋅⎝- 3⋅x  - 1⎠"
      ]
     },
     "execution_count": 155,
     "metadata": {},
     "output_type": "execute_result"
    }
   ],
   "source": [
    "-diff(Potentielle(0,y,-x-x**3,0),x)+diff(Potentielle(0,y,-x-x**3,0),y)"
   ]
  },
  {
   "cell_type": "code",
   "execution_count": null,
   "metadata": {
    "collapsed": true
   },
   "outputs": [],
   "source": []
  },
  {
   "cell_type": "code",
   "execution_count": null,
   "metadata": {
    "collapsed": true
   },
   "outputs": [],
   "source": []
  },
  {
   "cell_type": "code",
   "execution_count": null,
   "metadata": {
    "collapsed": true
   },
   "outputs": [],
   "source": []
  },
  {
   "cell_type": "code",
   "execution_count": null,
   "metadata": {
    "collapsed": true
   },
   "outputs": [],
   "source": []
  },
  {
   "cell_type": "code",
   "execution_count": null,
   "metadata": {
    "collapsed": true
   },
   "outputs": [],
   "source": []
  },
  {
   "cell_type": "code",
   "execution_count": null,
   "metadata": {
    "collapsed": true
   },
   "outputs": [],
   "source": []
  },
  {
   "cell_type": "code",
   "execution_count": null,
   "metadata": {
    "collapsed": true
   },
   "outputs": [],
   "source": []
  }
 ],
 "metadata": {
  "anaconda-cloud": {},
  "kernelspec": {
   "display_name": "Python [default]",
   "language": "python",
   "name": "python2"
  },
  "language_info": {
   "codemirror_mode": {
    "name": "ipython",
    "version": 2
   },
   "file_extension": ".py",
   "mimetype": "text/x-python",
   "name": "python",
   "nbconvert_exporter": "python",
   "pygments_lexer": "ipython2",
   "version": "2.7.12"
  }
 },
 "nbformat": 4,
 "nbformat_minor": 1
}
